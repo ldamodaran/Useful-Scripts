{
 "cells": [
  {
   "cell_type": "code",
   "execution_count": 32,
   "id": "851cef25",
   "metadata": {},
   "outputs": [],
   "source": [
    "from ete3 import Tree\n",
    "import os\n",
    "import pandas as pd\n",
    "# function to take in a set of trees and calculate the proportion of taxa in a tree are polytomies\n",
    "# see seperate vis of the csv from this in visprops.R "
   ]
  },
  {
   "cell_type": "code",
   "execution_count": 2,
   "id": "d89df73b",
   "metadata": {},
   "outputs": [],
   "source": [
    "def count_branches_and_zero_length(tree):\n",
    "    total_branches = 0\n",
    "    zero_length_branches = 0\n",
    "\n",
    "    for node in tree.traverse():\n",
    "        if not node.is_root():\n",
    "            total_branches += 1\n",
    "            if node.dist == 0:\n",
    "                zero_length_branches += 1\n",
    "\n",
    "    proportion_zero_length = zero_length_branches / total_branches if total_branches > 0 else 0\n",
    "\n",
    "    return total_branches, proportion_zero_length\n"
   ]
  },
  {
   "cell_type": "code",
   "execution_count": 37,
   "id": "4db51161",
   "metadata": {},
   "outputs": [
    {
     "name": "stdout",
     "output_type": "stream",
     "text": [
      "                                           Tree File  \\\n",
      "0  tree1.tree...   \n",
      "1  tree2.tree...   \n",
      "2  tree3.tree...   \n",
      "3  tree4.tree...   \n",
      "4  tree5.tree...   \n",
      "5  tree6.tree...   \n",
      "6  tree7.tree...   \n",
      "7  tree8.tree...   \n",
      "8  tree9.tree...   \n",
      "9  tree10.tree...   \n",
      "\n",
      "  Proportion of Zero Length Branches  \n",
      "0        (151, 0.013245033112582781)  \n",
      "1         (515, 0.11650485436893204)  \n",
      "2          (151, 0.4370860927152318)  \n",
      "3          (515, 0.8233009708737864)  \n",
      "4          (151, 0.5165562913907285)  \n",
      "5          (515, 0.8543689320388349)  \n",
      "6          (151, 0.8344370860927153)  \n",
      "7          (515, 0.9902912621359223)  \n",
      "8          (145, 0.9241379310344827)  \n",
      "9          (515, 0.9902912621359223)  \n"
     ]
    }
   ],
   "source": [
    "tree_files = [\"tree1.tree\",\n",
    "              \"tree2.tree\",\n",
    "              \"tree3.tree\",\n",
    "              \"tree4.tree\",\n",
    "              \"tree5.tree\",\n",
    "              \"tree6.tree\",\n",
    "              \"tree7.tree\",\n",
    "              \"tree8.tree\",\n",
    "              \"tree9.tree\",\n",
    "              \"tree10.tree\"]\n",
    "\n",
    "\n",
    "data = []\n",
    "for tree_file in tree_files:\n",
    "    with open(tree_file, \"r\") as f:\n",
    "        newick_string = f.read()\n",
    "        tree = Tree(newick_string)\n",
    "        proportion = count_branches_and_zero_length(tree)\n",
    "        data.append({'Tree File': tree_file, 'Proportion of Zero Length Branches': proportion})\n",
    "\n",
    "\n",
    "df = pd.DataFrame(data)\n",
    "print(df)\n",
    "df.to_csv(\"zerolength-proportion-amplicons.csv\",index= False)"
   ]
  },
  {
   "cell_type": "code",
   "execution_count": null,
   "id": "fdc14602",
   "metadata": {},
   "outputs": [],
   "source": []
  }
 ],
 "metadata": {
  "kernelspec": {
   "display_name": "Python 3 (ipykernel)",
   "language": "python",
   "name": "python3"
  },
  "language_info": {
   "codemirror_mode": {
    "name": "ipython",
    "version": 3
   },
   "file_extension": ".py",
   "mimetype": "text/x-python",
   "name": "python",
   "nbconvert_exporter": "python",
   "pygments_lexer": "ipython3",
   "version": "3.10.11"
  }
 },
 "nbformat": 4,
 "nbformat_minor": 5
}
